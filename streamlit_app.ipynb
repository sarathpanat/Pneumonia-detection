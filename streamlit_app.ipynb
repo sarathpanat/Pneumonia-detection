{
  "nbformat": 4,
  "nbformat_minor": 0,
  "metadata": {
    "colab": {
      "name": "streamlit app.ipynb",
      "provenance": [],
      "collapsed_sections": [],
      "authorship_tag": "ABX9TyMw9UZEc7P9ZPS2ZrLyMNtX",
      "include_colab_link": true
    },
    "kernelspec": {
      "display_name": "Python 3",
      "name": "python3"
    }
  },
  "cells": [
    {
      "cell_type": "markdown",
      "metadata": {
        "id": "view-in-github",
        "colab_type": "text"
      },
      "source": [
        "<a href=\"https://colab.research.google.com/github/sarathpanat/Pneumonia-detection/blob/main/streamlit_app.ipynb\" target=\"_parent\"><img src=\"https://colab.research.google.com/assets/colab-badge.svg\" alt=\"Open In Colab\"/></a>"
      ]
    },
    {
      "cell_type": "markdown",
      "metadata": {
        "id": "yWptF0rlVVTw"
      },
      "source": [
        ""
      ]
    },
    {
      "cell_type": "code",
      "metadata": {
        "id": "j7sDmhC_58i5",
        "colab": {
          "base_uri": "https://localhost:8080/"
        },
        "outputId": "ff2b5f9a-2e73-4eff-dc63-bfec169ea7e9"
      },
      "source": [
        "from google.colab import drive\n",
        "drive.mount('/content/gdrive')"
      ],
      "execution_count": 1,
      "outputs": [
        {
          "output_type": "stream",
          "text": [
            "Mounted at /content/gdrive\n"
          ],
          "name": "stdout"
        }
      ]
    },
    {
      "cell_type": "code",
      "metadata": {
        "id": "7M7vLES5VWkd"
      },
      "source": [
        "!pip install -U ipykernel"
      ],
      "execution_count": null,
      "outputs": []
    },
    {
      "cell_type": "code",
      "metadata": {
        "id": "9-zEDoFxVkvd"
      },
      "source": [
        "!pip install -q streamlit"
      ],
      "execution_count": null,
      "outputs": []
    },
    {
      "cell_type": "code",
      "metadata": {
        "id": "zF6aKlvzVqEV"
      },
      "source": [
        "!pip install streamlit\n",
        "!pip install pyngrok"
      ],
      "execution_count": null,
      "outputs": []
    },
    {
      "cell_type": "code",
      "metadata": {
        "id": "xFDv2Y9P7oR4"
      },
      "source": [
        "!mkdir -p /drive/ngrok-ssh\n",
        "%cd /drive/ngrok-ssh\n",
        "!wget https://bin.equinox.io/c/4VmDzA7iaHb/ngrok-stable-linux-amd64.zip -O ngrok-stable-linux-amd64.zip\n",
        "!unzip -u ngrok-stable-linux-amd64.zip\n",
        "!cp /drive/ngrok-ssh/ngrok /ngrok\n",
        "!chmod +x /ngrok"
      ],
      "execution_count": null,
      "outputs": []
    },
    {
      "cell_type": "code",
      "metadata": {
        "id": "QUPFzSDqM_ea",
        "colab": {
          "base_uri": "https://localhost:8080/"
        },
        "outputId": "a4f51026-da79-46b4-8eb4-aaae003e20c4"
      },
      "source": [
        "#@title !/ngrok authtoken XXXXXXX { display-mode: \"form\" }\n",
        "!/ngrok authtoken xxxxxxxxxxxxxxxxxxxxxxxxxxxxxxxxx"
      ],
      "execution_count": 6,
      "outputs": [
        {
          "output_type": "stream",
          "text": [
            "Authtoken saved to configuration file: /root/.ngrok2/ngrok.yml\n"
          ],
          "name": "stdout"
        }
      ]
    },
    {
      "cell_type": "code",
      "metadata": {
        "colab": {
          "base_uri": "https://localhost:8080/"
        },
        "id": "G7f9E0MR0Rt2",
        "outputId": "2479629a-de45-4141-aec8-7289695f169a"
      },
      "source": [
        "%%writefile img_classification.py\n",
        "import keras\n",
        "from PIL import Image, ImageOps\n",
        "import numpy as np\n",
        "import cv2\n",
        "\n",
        "def teachable_machine_classification(img, weights_file):\n",
        "    # Load the model\n",
        "    model = keras.models.load_model(weights_file)\n",
        "\n",
        "    # Create the array of the right shape to feed into the keras model\n",
        "    data = np.ndarray(shape=(1, 224, 224, 3), dtype=np.float32)\n",
        "    image = img\n",
        "    #image sizing\n",
        "    size = (224, 224)\n",
        "    image = ImageOps.fit(image, size, Image.ANTIALIAS)\n",
        "\n",
        "    #turn the image into a numpy array\n",
        "    #image = cv2.imread(image)\n",
        "    #image = cv2.cvtColor(image, cv2.COLOR_BGR2GRAY)\n",
        "    \n",
        "    image_array = np.asarray(image)\n",
        "    image_array = cv2.merge([image_array,image_array,image_array])\n",
        "    # Normalize the image\n",
        "    normalized_image_array = (image_array.astype(np.float32) / 255)\n",
        "\n",
        "    # Load the image into the array\n",
        "    data[0] = normalized_image_array\n",
        "\n",
        "    # run the inference\n",
        "    prediction = model.predict(data)\n",
        "    #return np.argmax(prediction)\n",
        "    return prediction.round() # return position of the highest probability"
      ],
      "execution_count": 56,
      "outputs": [
        {
          "output_type": "stream",
          "text": [
            "Overwriting img_classification.py\n"
          ],
          "name": "stdout"
        }
      ]
    },
    {
      "cell_type": "code",
      "metadata": {
        "colab": {
          "base_uri": "https://localhost:8080/"
        },
        "id": "T6gKEUCVo2a9",
        "outputId": "f4cf6e45-4b2f-4a4c-f91c-be4d7ab37537"
      },
      "source": [
        "%%writefile app.py\n",
        "import streamlit as st\n",
        "from PIL import Image\n",
        "from img_classification import teachable_machine_classification\n",
        "\n",
        "st.sidebar.title(\"About\")\n",
        "st.sidebar.info(\"This is ML based Pneumonia detection web app, where you can upload X-ray images and predict whether the X-ray is healthy or not from pneumonia. This model is built with CNN.\")\n",
        "st.sidebar.title(\"Predict chest X-ray (pneumonia) \")\n",
        "uploaded_file = st.sidebar.file_uploader(\"Choose a chest X-ray ...\", type=\"jpeg\")\n",
        "\n",
        "st.title(\"Chest X-ray classification using CNN\")\n",
        "st.header(\"Predicting pneumonia from chest X-ray images\")\n",
        "st.text(\"Upload a chest X-ray Image for image classification as Normal or pneumonia\")\n",
        "\n",
        "if uploaded_file is not None:\n",
        "  if st.button('Predict X-ray'):\n",
        "    showpred = 1\n",
        "    image = Image.open(uploaded_file)\n",
        "    st.image(image, caption='Uploaded MRI.', use_column_width='True')\n",
        "    st.write(\"\")\n",
        "    st.write(\"Classifying...\")\n",
        "    label = teachable_machine_classification(image, '/content/gdrive/MyDrive/Colab Notebooks/my_model.h5')\n",
        "    if label == 0:\n",
        "        st.write(\"The X ray scan is healthy\")\n",
        "    else:\n",
        "        st.write(\"The X ray scan has pneumonia\")"
      ],
      "execution_count": 57,
      "outputs": [
        {
          "output_type": "stream",
          "text": [
            "Overwriting app.py\n"
          ],
          "name": "stdout"
        }
      ]
    },
    {
      "cell_type": "code",
      "metadata": {
        "id": "ord63-X8FfHO"
      },
      "source": [
        "get_ipython().system_raw('./ngrok http 8501 &')"
      ],
      "execution_count": 58,
      "outputs": []
    },
    {
      "cell_type": "code",
      "metadata": {
        "id": "i5u93Qu6FzHL"
      },
      "source": [
        "!curl -s http://localhost:4040/api/tunnels | python3 -c \\\n",
        "    'import sys, json; print(\"Execute the next cell and the go to the following URL: \" +json.load(sys.stdin)[\"tunnels\"][0][\"public_url\"])'"
      ],
      "execution_count": null,
      "outputs": []
    },
    {
      "cell_type": "code",
      "metadata": {
        "id": "moJ0FsdEF5Dn"
      },
      "source": [
        "!streamlit run app.py"
      ],
      "execution_count": null,
      "outputs": []
    },
    {
      "cell_type": "code",
      "metadata": {
        "id": "J6hCppPRBxv7"
      },
      "source": [
        ""
      ],
      "execution_count": 45,
      "outputs": []
    }
  ]
}
