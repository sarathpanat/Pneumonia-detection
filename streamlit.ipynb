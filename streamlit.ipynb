{
  "nbformat": 4,
  "nbformat_minor": 0,
  "metadata": {
    "colab": {
      "name": "streamlit.ipynb",
      "provenance": [],
      "collapsed_sections": [],
      "authorship_tag": "ABX9TyPW6ZCWAYIzB4+6UaFhhf3E",
      "include_colab_link": true
    },
    "kernelspec": {
      "display_name": "Python 3",
      "name": "python3"
    }
  },
  "cells": [
    {
      "cell_type": "markdown",
      "metadata": {
        "id": "view-in-github",
        "colab_type": "text"
      },
      "source": [
        "<a href=\"https://colab.research.google.com/github/sarathpanat/Pneumonia-detection/blob/main/streamlit.ipynb\" target=\"_parent\"><img src=\"https://colab.research.google.com/assets/colab-badge.svg\" alt=\"Open In Colab\"/></a>"
      ]
    },
    {
      "cell_type": "markdown",
      "metadata": {
        "id": "yWptF0rlVVTw"
      },
      "source": [
        "Chest X-ray classification - Streamlit"
      ]
    },
    {
      "cell_type": "code",
      "metadata": {
        "id": "j7sDmhC_58i5",
        "colab": {
          "base_uri": "https://localhost:8080/"
        },
        "outputId": "a9d25fd2-dac3-41f9-b901-8ae0b229c865"
      },
      "source": [
        "from google.colab import drive\n",
        "drive.mount('/content/gdrive')"
      ],
      "execution_count": 5,
      "outputs": [
        {
          "output_type": "stream",
          "text": [
            "Mounted at /content/gdrive\n"
          ],
          "name": "stdout"
        }
      ]
    },
    {
      "cell_type": "code",
      "metadata": {
        "id": "7M7vLES5VWkd"
      },
      "source": [
        "!pip install -U ipykernel"
      ],
      "execution_count": null,
      "outputs": []
    },
    {
      "cell_type": "code",
      "metadata": {
        "id": "9-zEDoFxVkvd"
      },
      "source": [
        "!pip install -q streamlit"
      ],
      "execution_count": 7,
      "outputs": []
    },
    {
      "cell_type": "code",
      "metadata": {
        "id": "zF6aKlvzVqEV"
      },
      "source": [
        "!pip install streamlit\n",
        "!pip install pyngrok"
      ],
      "execution_count": null,
      "outputs": []
    },
    {
      "cell_type": "code",
      "metadata": {
        "colab": {
          "base_uri": "https://localhost:8080/"
        },
        "id": "xFDv2Y9P7oR4",
        "outputId": "6bccfedc-e811-4553-e5ca-5192402ae918"
      },
      "source": [
        "!mkdir -p /drive/ngrok-ssh\n",
        "%cd /drive/ngrok-ssh\n",
        "!wget https://bin.equinox.io/c/4VmDzA7iaHb/ngrok-stable-linux-amd64.zip -O ngrok-stable-linux-amd64.zip\n",
        "!unzip -u ngrok-stable-linux-amd64.zip\n",
        "!cp /drive/ngrok-ssh/ngrok /ngrok\n",
        "!chmod +x /ngrok"
      ],
      "execution_count": 10,
      "outputs": [
        {
          "output_type": "stream",
          "text": [
            "/drive/ngrok-ssh\n",
            "--2020-12-04 08:46:36--  https://bin.equinox.io/c/4VmDzA7iaHb/ngrok-stable-linux-amd64.zip\n",
            "Resolving bin.equinox.io (bin.equinox.io)... 52.202.213.65, 3.211.100.25, 52.55.160.36, ...\n",
            "Connecting to bin.equinox.io (bin.equinox.io)|52.202.213.65|:443... connected.\n",
            "HTTP request sent, awaiting response... 200 OK\n",
            "Length: 13773305 (13M) [application/octet-stream]\n",
            "Saving to: ‘ngrok-stable-linux-amd64.zip’\n",
            "\n",
            "ngrok-stable-linux- 100%[===================>]  13.13M  75.2MB/s    in 0.2s    \n",
            "\n",
            "2020-12-04 08:46:36 (75.2 MB/s) - ‘ngrok-stable-linux-amd64.zip’ saved [13773305/13773305]\n",
            "\n",
            "Archive:  ngrok-stable-linux-amd64.zip\n"
          ],
          "name": "stdout"
        }
      ]
    },
    {
      "cell_type": "code",
      "metadata": {
        "id": "QUPFzSDqM_ea"
      },
      "source": [
        "#@title !/ngrok authtoken XXXXXXX { display-mode: \"form\" }\n",
        "!/ngrok authtoken 1l6IyUfy6Lnjv5CbADdUG03JrHD_4pUiceS6gAgjoqnEWiSH8"
      ],
      "execution_count": null,
      "outputs": []
    },
    {
      "cell_type": "code",
      "metadata": {
        "colab": {
          "base_uri": "https://localhost:8080/"
        },
        "id": "G7f9E0MR0Rt2",
        "outputId": "1b67d495-551f-46ce-bd90-5b5db82484ab"
      },
      "source": [
        "%%writefile img_classification.py\n",
        "import keras\n",
        "from PIL import Image, ImageOps\n",
        "import numpy as np\n",
        "\n",
        "def teachable_machine_classification(img, weights_file):\n",
        "    # Load the model\n",
        "    model = keras.models.load_model(weights_file)\n",
        "\n",
        "    # Create the array of the right shape to feed into the keras model\n",
        "    data = np.ndarray(shape=(1, 224, 224, 3), dtype=np.float32)\n",
        "    image = img\n",
        "    #image sizing\n",
        "    size = (224, 224)\n",
        "    image = ImageOps.fit(image, size, Image.ANTIALIAS)\n",
        "\n",
        "    #turn the image into a numpy array\n",
        "    image_array = np.asarray(image)\n",
        "    # Normalize the image\n",
        "    normalized_image_array = (image_array.astype(np.float32) / 255)\n",
        "\n",
        "    # Load the image into the array\n",
        "    data[0] = normalized_image_array\n",
        "\n",
        "    # run the inference\n",
        "    prediction = model.predict(data)\n",
        "    #return np.argmax(prediction)\n",
        "    return prediction.round() # return position of the highest probability"
      ],
      "execution_count": 70,
      "outputs": [
        {
          "output_type": "stream",
          "text": [
            "Overwriting img_classification.py\n"
          ],
          "name": "stdout"
        }
      ]
    },
    {
      "cell_type": "code",
      "metadata": {
        "colab": {
          "base_uri": "https://localhost:8080/"
        },
        "id": "T6gKEUCVo2a9",
        "outputId": "e2eaad6e-9713-42ab-ffa7-43daada20a93"
      },
      "source": [
        "%%writefile app.py\n",
        "import streamlit as st\n",
        "from PIL import Image\n",
        "from img_classification import teachable_machine_classification\n",
        "\n",
        "st.sidebar.title(\"About\")\n",
        "st.sidebar.info(\"This is ML based Pneumonia detection web app, where you can upload X-ray images and predict whether the X-ray is healthy or not from pneumonia. This model is built with CNN.\")\n",
        "st.sidebar.title(\"Predict chest X-ray (pneumonia) \")\n",
        "uploaded_file = st.sidebar.file_uploader(\"Choose a chest X-ray ...\", type=\"jpg\")\n",
        "\n",
        "st.title(\"Chest X-ray classification using CNN\")\n",
        "st.header(\"Predicting pneumonia from chest X-ray images\")\n",
        "st.text(\"Upload a chest X-ray Image for image classification as Normal or pneumonia\")\n",
        "\n",
        "if uploaded_file is not None:\n",
        "  if st.button('Predict X-ray'):\n",
        "    showpred = 1\n",
        "    image = Image.open(uploaded_file)\n",
        "    st.image(image, caption='Uploaded MRI.', use_column_width)\n",
        "    st.write(\"\")\n",
        "    st.write(\"Classifying...\")\n",
        "    label = teachable_machine_classification(image, '/content/gdrive/MyDrive/Colab Notebooks/my_model.h5')\n",
        "    if label == 0:\n",
        "        st.write(\"The X ray scan is healthy\")\n",
        "    else:\n",
        "        st.write(\"The X ray scan has pneumonia\")"
      ],
      "execution_count": 79,
      "outputs": [
        {
          "output_type": "stream",
          "text": [
            "Overwriting app.py\n"
          ],
          "name": "stdout"
        }
      ]
    },
    {
      "cell_type": "code",
      "metadata": {
        "id": "ord63-X8FfHO"
      },
      "source": [
        "get_ipython().system_raw('./ngrok http 8501 &')"
      ],
      "execution_count": 80,
      "outputs": []
    },
    {
      "cell_type": "code",
      "metadata": {
        "colab": {
          "base_uri": "https://localhost:8080/"
        },
        "id": "i5u93Qu6FzHL",
        "outputId": "bdc415eb-f64f-48f6-a051-517fd917e39f"
      },
      "source": [
        "!curl -s http://localhost:4040/api/tunnels | python3 -c \\\n",
        "    'import sys, json; print(\"Execute the next cell and the go to the following URL: \" +json.load(sys.stdin)[\"tunnels\"][0][\"public_url\"])'"
      ],
      "execution_count": 81,
      "outputs": [
        {
          "output_type": "stream",
          "text": [
            "Execute the next cell and the go to the following URL: https://6c44683d64ec.ngrok.io\n"
          ],
          "name": "stdout"
        }
      ]
    },
    {
      "cell_type": "code",
      "metadata": {
        "colab": {
          "base_uri": "https://localhost:8080/"
        },
        "id": "moJ0FsdEF5Dn",
        "outputId": "e840d814-8598-4963-93fd-3a3956dccba6"
      },
      "source": [
        "!streamlit run app.py"
      ],
      "execution_count": 82,
      "outputs": [
        {
          "output_type": "stream",
          "text": [
            "\u001b[0m\n",
            "\u001b[34m\u001b[1m  You can now view your Streamlit app in your browser.\u001b[0m\n",
            "\u001b[0m\n",
            "\u001b[34m  Network URL: \u001b[0m\u001b[1mhttp://172.28.0.2:8501\u001b[0m\n",
            "\u001b[34m  External URL: \u001b[0m\u001b[1mhttp://35.231.37.4:8501\u001b[0m\n",
            "\u001b[0m\n",
            "2020-12-04 09:58:43.820931: I tensorflow/stream_executor/platform/default/dso_loader.cc:48] Successfully opened dynamic library libcudart.so.10.1\n",
            "\u001b[34m  Stopping...\u001b[0m\n"
          ],
          "name": "stdout"
        }
      ]
    },
    {
      "cell_type": "code",
      "metadata": {
        "id": "J6hCppPRBxv7"
      },
      "source": [
        ""
      ],
      "execution_count": null,
      "outputs": []
    }
  ]
}